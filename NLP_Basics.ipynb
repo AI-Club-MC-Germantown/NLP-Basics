{
  "nbformat": 4,
  "nbformat_minor": 0,
  "metadata": {
    "colab": {
      "provenance": []
    },
    "kernelspec": {
      "name": "python3",
      "display_name": "Python 3"
    },
    "language_info": {
      "name": "python"
    }
  },
  "cells": [
    {
      "cell_type": "markdown",
      "source": [
        "Download Libraries"
      ],
      "metadata": {
        "id": "J6Piy6vRpoJh"
      }
    },
    {
      "cell_type": "code",
      "source": [
        "!pip install spacy\n",
        "!pip install en_core_web_sm\n",
        "!pip install numpy"
      ],
      "metadata": {
        "colab": {
          "base_uri": "https://localhost:8080/"
        },
        "collapsed": true,
        "id": "XzCWmjsGpvox",
        "outputId": "b4f91fae-0060-458f-db3e-bb7d14ef48a8"
      },
      "execution_count": null,
      "outputs": [
        {
          "output_type": "stream",
          "name": "stdout",
          "text": [
            "Requirement already satisfied: spacy in /usr/local/lib/python3.10/dist-packages (3.7.5)\n",
            "Requirement already satisfied: spacy-legacy<3.1.0,>=3.0.11 in /usr/local/lib/python3.10/dist-packages (from spacy) (3.0.12)\n",
            "Requirement already satisfied: spacy-loggers<2.0.0,>=1.0.0 in /usr/local/lib/python3.10/dist-packages (from spacy) (1.0.5)\n",
            "Requirement already satisfied: murmurhash<1.1.0,>=0.28.0 in /usr/local/lib/python3.10/dist-packages (from spacy) (1.0.10)\n",
            "Requirement already satisfied: cymem<2.1.0,>=2.0.2 in /usr/local/lib/python3.10/dist-packages (from spacy) (2.0.8)\n",
            "Requirement already satisfied: preshed<3.1.0,>=3.0.2 in /usr/local/lib/python3.10/dist-packages (from spacy) (3.0.9)\n",
            "Requirement already satisfied: thinc<8.3.0,>=8.2.2 in /usr/local/lib/python3.10/dist-packages (from spacy) (8.2.5)\n",
            "Requirement already satisfied: wasabi<1.2.0,>=0.9.1 in /usr/local/lib/python3.10/dist-packages (from spacy) (1.1.3)\n",
            "Requirement already satisfied: srsly<3.0.0,>=2.4.3 in /usr/local/lib/python3.10/dist-packages (from spacy) (2.4.8)\n",
            "Requirement already satisfied: catalogue<2.1.0,>=2.0.6 in /usr/local/lib/python3.10/dist-packages (from spacy) (2.0.10)\n",
            "Requirement already satisfied: weasel<0.5.0,>=0.1.0 in /usr/local/lib/python3.10/dist-packages (from spacy) (0.4.1)\n",
            "Requirement already satisfied: typer<1.0.0,>=0.3.0 in /usr/local/lib/python3.10/dist-packages (from spacy) (0.12.5)\n",
            "Requirement already satisfied: tqdm<5.0.0,>=4.38.0 in /usr/local/lib/python3.10/dist-packages (from spacy) (4.66.6)\n",
            "Requirement already satisfied: requests<3.0.0,>=2.13.0 in /usr/local/lib/python3.10/dist-packages (from spacy) (2.32.3)\n",
            "Requirement already satisfied: pydantic!=1.8,!=1.8.1,<3.0.0,>=1.7.4 in /usr/local/lib/python3.10/dist-packages (from spacy) (2.9.2)\n",
            "Requirement already satisfied: jinja2 in /usr/local/lib/python3.10/dist-packages (from spacy) (3.1.4)\n",
            "Requirement already satisfied: setuptools in /usr/local/lib/python3.10/dist-packages (from spacy) (75.1.0)\n",
            "Requirement already satisfied: packaging>=20.0 in /usr/local/lib/python3.10/dist-packages (from spacy) (24.1)\n",
            "Requirement already satisfied: langcodes<4.0.0,>=3.2.0 in /usr/local/lib/python3.10/dist-packages (from spacy) (3.4.1)\n",
            "Requirement already satisfied: numpy>=1.19.0 in /usr/local/lib/python3.10/dist-packages (from spacy) (1.26.4)\n",
            "Requirement already satisfied: language-data>=1.2 in /usr/local/lib/python3.10/dist-packages (from langcodes<4.0.0,>=3.2.0->spacy) (1.2.0)\n",
            "Requirement already satisfied: annotated-types>=0.6.0 in /usr/local/lib/python3.10/dist-packages (from pydantic!=1.8,!=1.8.1,<3.0.0,>=1.7.4->spacy) (0.7.0)\n",
            "Requirement already satisfied: pydantic-core==2.23.4 in /usr/local/lib/python3.10/dist-packages (from pydantic!=1.8,!=1.8.1,<3.0.0,>=1.7.4->spacy) (2.23.4)\n",
            "Requirement already satisfied: typing-extensions>=4.6.1 in /usr/local/lib/python3.10/dist-packages (from pydantic!=1.8,!=1.8.1,<3.0.0,>=1.7.4->spacy) (4.12.2)\n",
            "Requirement already satisfied: charset-normalizer<4,>=2 in /usr/local/lib/python3.10/dist-packages (from requests<3.0.0,>=2.13.0->spacy) (3.4.0)\n",
            "Requirement already satisfied: idna<4,>=2.5 in /usr/local/lib/python3.10/dist-packages (from requests<3.0.0,>=2.13.0->spacy) (3.10)\n",
            "Requirement already satisfied: urllib3<3,>=1.21.1 in /usr/local/lib/python3.10/dist-packages (from requests<3.0.0,>=2.13.0->spacy) (2.2.3)\n",
            "Requirement already satisfied: certifi>=2017.4.17 in /usr/local/lib/python3.10/dist-packages (from requests<3.0.0,>=2.13.0->spacy) (2024.8.30)\n",
            "Requirement already satisfied: blis<0.8.0,>=0.7.8 in /usr/local/lib/python3.10/dist-packages (from thinc<8.3.0,>=8.2.2->spacy) (0.7.11)\n",
            "Requirement already satisfied: confection<1.0.0,>=0.0.1 in /usr/local/lib/python3.10/dist-packages (from thinc<8.3.0,>=8.2.2->spacy) (0.1.5)\n",
            "Requirement already satisfied: click>=8.0.0 in /usr/local/lib/python3.10/dist-packages (from typer<1.0.0,>=0.3.0->spacy) (8.1.7)\n",
            "Requirement already satisfied: shellingham>=1.3.0 in /usr/local/lib/python3.10/dist-packages (from typer<1.0.0,>=0.3.0->spacy) (1.5.4)\n",
            "Requirement already satisfied: rich>=10.11.0 in /usr/local/lib/python3.10/dist-packages (from typer<1.0.0,>=0.3.0->spacy) (13.9.3)\n",
            "Requirement already satisfied: cloudpathlib<1.0.0,>=0.7.0 in /usr/local/lib/python3.10/dist-packages (from weasel<0.5.0,>=0.1.0->spacy) (0.20.0)\n",
            "Requirement already satisfied: smart-open<8.0.0,>=5.2.1 in /usr/local/lib/python3.10/dist-packages (from weasel<0.5.0,>=0.1.0->spacy) (7.0.5)\n",
            "Requirement already satisfied: MarkupSafe>=2.0 in /usr/local/lib/python3.10/dist-packages (from jinja2->spacy) (3.0.2)\n",
            "Requirement already satisfied: marisa-trie>=0.7.7 in /usr/local/lib/python3.10/dist-packages (from language-data>=1.2->langcodes<4.0.0,>=3.2.0->spacy) (1.2.1)\n",
            "Requirement already satisfied: markdown-it-py>=2.2.0 in /usr/local/lib/python3.10/dist-packages (from rich>=10.11.0->typer<1.0.0,>=0.3.0->spacy) (3.0.0)\n",
            "Requirement already satisfied: pygments<3.0.0,>=2.13.0 in /usr/local/lib/python3.10/dist-packages (from rich>=10.11.0->typer<1.0.0,>=0.3.0->spacy) (2.18.0)\n",
            "Requirement already satisfied: wrapt in /usr/local/lib/python3.10/dist-packages (from smart-open<8.0.0,>=5.2.1->weasel<0.5.0,>=0.1.0->spacy) (1.16.0)\n",
            "Requirement already satisfied: mdurl~=0.1 in /usr/local/lib/python3.10/dist-packages (from markdown-it-py>=2.2.0->rich>=10.11.0->typer<1.0.0,>=0.3.0->spacy) (0.1.2)\n",
            "\u001b[31mERROR: Could not find a version that satisfies the requirement en_core_web_lg (from versions: none)\u001b[0m\u001b[31m\n",
            "\u001b[0m\u001b[31mERROR: No matching distribution found for en_core_web_lg\u001b[0m\u001b[31m\n",
            "\u001b[0mRequirement already satisfied: numpy in /usr/local/lib/python3.10/dist-packages (1.26.4)\n"
          ]
        }
      ]
    },
    {
      "cell_type": "markdown",
      "source": [
        "Import Libraries"
      ],
      "metadata": {
        "id": "ULlCY3eVqA55"
      }
    },
    {
      "cell_type": "code",
      "execution_count": null,
      "metadata": {
        "id": "iB4BJjzQUZQj"
      },
      "outputs": [],
      "source": [
        "import spacy\n",
        "from spacy.vectors import Vectors\n",
        "import numpy as np"
      ]
    },
    {
      "cell_type": "markdown",
      "source": [
        "Load Model"
      ],
      "metadata": {
        "id": "5YrGMnSfqCiU"
      }
    },
    {
      "cell_type": "code",
      "source": [
        "nlp = spacy.load(\"en_core_web_sm\")"
      ],
      "metadata": {
        "id": "_WMGf-W8Ud9F"
      },
      "execution_count": null,
      "outputs": []
    },
    {
      "cell_type": "markdown",
      "source": [
        "**Tokenization - The process of breaking up sentences or paragraphs into words or \"tokens\"**"
      ],
      "metadata": {
        "id": "8ZYrP4I0qHe5"
      }
    },
    {
      "cell_type": "code",
      "source": [
        "mystring = '\"We\\'re moving to L.A.!\"'"
      ],
      "metadata": {
        "id": "BXHxryfdUkFI"
      },
      "execution_count": null,
      "outputs": []
    },
    {
      "cell_type": "code",
      "source": [
        "doc = nlp(mystring)"
      ],
      "metadata": {
        "id": "1TQw3lbRUx92"
      },
      "execution_count": null,
      "outputs": []
    },
    {
      "cell_type": "code",
      "source": [
        "for token in doc:\n",
        "  print(token.text)"
      ],
      "metadata": {
        "colab": {
          "base_uri": "https://localhost:8080/"
        },
        "id": "NCbPUtzEU2wY",
        "outputId": "153de535-f014-43c0-e222-d22a6811f2ec"
      },
      "execution_count": null,
      "outputs": [
        {
          "output_type": "stream",
          "name": "stdout",
          "text": [
            "\"\n",
            "We\n",
            "'re\n",
            "moving\n",
            "to\n",
            "L.A.\n",
            "!\n",
            "\"\n"
          ]
        }
      ]
    },
    {
      "cell_type": "code",
      "source": [
        "len(doc)"
      ],
      "metadata": {
        "colab": {
          "base_uri": "https://localhost:8080/"
        },
        "id": "5bUuKCDdVpSq",
        "outputId": "b64d5379-00f1-4fd8-d36c-e93292b0bd00"
      },
      "execution_count": null,
      "outputs": [
        {
          "output_type": "execute_result",
          "data": {
            "text/plain": [
              "8"
            ]
          },
          "metadata": {},
          "execution_count": 13
        }
      ]
    },
    {
      "cell_type": "markdown",
      "source": [
        "**Named Entity Recognition - The ability to detect objects in text**"
      ],
      "metadata": {
        "id": "nI8jmUW0r27K"
      }
    },
    {
      "cell_type": "code",
      "source": [
        "doc2 = nlp(u\"Apple to build a Hong Kong factory for $6 million\")"
      ],
      "metadata": {
        "id": "15A6vEGRWOm1"
      },
      "execution_count": null,
      "outputs": []
    },
    {
      "cell_type": "code",
      "source": [
        "for token in doc2:\n",
        "  print(token.text, end=' | ')"
      ],
      "metadata": {
        "colab": {
          "base_uri": "https://localhost:8080/"
        },
        "id": "s-UjsJdIWwJK",
        "outputId": "68d4a18e-8ca8-431d-cce2-025660d3683d"
      },
      "execution_count": null,
      "outputs": [
        {
          "output_type": "stream",
          "name": "stdout",
          "text": [
            "Apple | to | build | a | Hong | Kong | factory | for | $ | 6 | million | "
          ]
        }
      ]
    },
    {
      "cell_type": "code",
      "source": [
        "for entity in doc2.ents:\n",
        "  print(entity)\n",
        "  print(entity.label_)\n",
        "  print(str(spacy.explain(entity.label_)))\n",
        "  print('\\n')"
      ],
      "metadata": {
        "colab": {
          "base_uri": "https://localhost:8080/"
        },
        "id": "trTC0of7W02j",
        "outputId": "b12953fb-2b24-44df-c1f9-10102846063a"
      },
      "execution_count": null,
      "outputs": [
        {
          "output_type": "stream",
          "name": "stdout",
          "text": [
            "Apple\n",
            "ORG\n",
            "Companies, agencies, institutions, etc.\n",
            "\n",
            "\n",
            "Hong Kong\n",
            "GPE\n",
            "Countries, cities, states\n",
            "\n",
            "\n",
            "$6 million\n",
            "MONEY\n",
            "Monetary values, including unit\n",
            "\n",
            "\n"
          ]
        }
      ]
    },
    {
      "cell_type": "markdown",
      "source": [
        "**Word Vectors**"
      ],
      "metadata": {
        "id": "ChAthsxWsAXC"
      }
    },
    {
      "cell_type": "code",
      "source": [
        "doc3 = nlp(\"King Queen Man Woman\")"
      ],
      "metadata": {
        "id": "jiG9POIKsCpU"
      },
      "execution_count": null,
      "outputs": []
    },
    {
      "cell_type": "code",
      "source": [
        "for token in doc3:\n",
        "  print(token)\n",
        "  print(\"Vector: \", token.vector)\n",
        "  print(\"Vector Shape: \", token.vector.shape)"
      ],
      "metadata": {
        "colab": {
          "base_uri": "https://localhost:8080/"
        },
        "id": "tOGNPo9osODd",
        "outputId": "3ef7cfa0-3760-41d7-ea86-a4bd64e0fa09"
      },
      "execution_count": null,
      "outputs": [
        {
          "output_type": "stream",
          "name": "stdout",
          "text": [
            "king\n",
            "Vector:  [-0.8084179  -1.1996998   0.05063823  0.35260552 -0.6783676  -0.07885127\n",
            "  0.7162878   0.99822336 -0.6805248   0.06031092  1.9863921   0.62525433\n",
            " -1.5331765  -0.6867976  -0.7493231  -0.15264201 -1.5608239  -0.3202949\n",
            " -0.5833647  -0.70516896  0.24154274  1.7873206   1.6351922   0.6071669\n",
            "  0.61549366  0.46495867  0.82750934  1.8413917   0.2850814  -0.44876647\n",
            " -1.0244848  -1.1675203  -0.00563015  0.03533591 -0.7872421  -0.0497894\n",
            "  0.30850583 -0.54026693 -0.10048549  0.18513137 -1.2612656   1.4445415\n",
            " -0.14391351  0.5718263  -0.12727186 -0.27398315 -0.03845936  0.61765885\n",
            "  0.07417029  0.23314437 -0.71113265 -0.7247396   0.9146447  -0.8568754\n",
            " -1.0503371  -0.57324016  0.6555146  -0.40367493  0.70927685 -0.26539582\n",
            " -1.0885854  -0.46461114 -0.14951828 -1.205323   -0.7329695  -0.85748327\n",
            " -0.12005978  2.0751355   0.4158858  -0.97930664  1.1269226  -0.22760342\n",
            "  0.47278523 -0.8991615   0.06097326 -0.07046701 -0.4289999   0.20349953\n",
            "  0.5937786  -0.64640766 -0.03092125 -0.33759028 -0.42158788 -0.3825873\n",
            "  0.4440794   0.26747954  0.9261708   0.35000306 -1.8281318   2.402886\n",
            " -0.3286584  -0.627247    1.4901853   1.006734   -0.21666348 -0.25367355]\n",
            "Vector Shape:  (96,)\n",
            "queen\n",
            "Vector:  [ 1.6560271e-01 -3.9532307e-01 -2.9629540e-01  7.6775563e-01\n",
            " -4.9089447e-01 -5.4971021e-01  6.0323745e-02  1.3389854e+00\n",
            "  5.5828190e-01  2.1562919e-01  6.3698244e-01  8.1214654e-01\n",
            " -1.0425079e+00 -2.1328657e+00 -8.0861092e-01  5.7300389e-01\n",
            " -8.8340676e-01  7.5045913e-02 -2.1246985e-01  8.6226374e-02\n",
            " -1.3553574e+00  1.1911660e+00  9.1100529e-02  1.1789973e+00\n",
            "  2.5500014e-01 -9.9015534e-03  5.3495848e-01  8.5717130e-01\n",
            " -3.9473757e-02  2.1868962e-01 -5.2567452e-01 -1.0158311e+00\n",
            " -1.3983554e-01  2.4133067e-01 -2.2461116e-03  5.8808202e-01\n",
            " -1.7586300e-01 -3.8745797e-01 -1.2268624e+00 -1.0364406e+00\n",
            " -1.4657333e+00  5.4739431e-02 -4.6552804e-01  8.8199031e-01\n",
            " -4.5874125e-01  1.8536985e-02 -3.0012861e-02  2.2302507e-01\n",
            " -7.6750547e-01  8.6864537e-01 -1.1695701e+00 -3.2146096e-01\n",
            "  8.6718631e-01 -7.7276242e-01 -8.5638916e-01 -2.3222044e-01\n",
            "  8.8948803e-03 -5.2971482e-01  3.0607653e-01  4.7777927e-01\n",
            " -5.7672471e-01 -5.9163177e-01  6.7314386e-01 -1.4628731e+00\n",
            " -1.0079494e+00 -5.9984040e-01  8.4793532e-01  2.3225996e+00\n",
            "  7.8593373e-02  1.0217619e-01  1.1851188e+00  6.0429037e-01\n",
            "  5.5996701e-02 -9.8779470e-01  4.2848566e-01  2.5988296e-01\n",
            " -1.2391617e+00 -8.2291394e-01 -7.4476294e-02  2.4319276e-01\n",
            "  4.9116233e-01 -9.4232515e-02  3.6829013e-01  4.1922951e-01\n",
            " -1.2110606e+00  1.5333419e-01 -6.2231995e-02  1.6863765e-01\n",
            " -1.6614016e+00  8.1999624e-01 -8.5043341e-02  3.4135807e-01\n",
            "  1.5199298e+00  8.0155987e-01  5.1629144e-01  2.5201032e-01]\n",
            "Vector Shape:  (96,)\n",
            "man\n",
            "Vector:  [-2.72016704e-01 -1.19491911e+00 -1.32597759e-01  1.01865673e+00\n",
            " -5.86644769e-01 -5.16643524e-01  3.78059745e-01  1.68146288e+00\n",
            "  2.34849453e-02  8.59480500e-01  1.13598466e+00 -1.46656573e-01\n",
            "  2.27102891e-01 -1.32183504e+00 -3.55705976e-01  2.17092127e-01\n",
            " -1.35321885e-01 -2.96967268e-01 -1.86757445e-01 -4.06746686e-01\n",
            "  1.32205784e-02  3.87384951e-01 -6.20666265e-01  7.68987179e-01\n",
            "  5.23797870e-01  5.07692218e-01 -5.97574115e-01  9.18649614e-01\n",
            " -1.32980093e-01 -1.86789304e-01 -3.64003748e-01 -1.53261334e-01\n",
            " -2.26193547e-01  2.91622370e-01 -9.87896323e-01 -5.91753602e-01\n",
            " -5.29366851e-01  5.73445678e-01 -1.21607113e+00 -6.61967933e-01\n",
            " -9.20367599e-01  2.89093673e-01 -2.56603301e-01  1.60141385e+00\n",
            " -1.27986640e-01 -3.02860022e-01  9.17226076e-02 -3.17478657e-01\n",
            " -8.95290971e-01  2.15924978e-01 -9.21961665e-01  1.15189254e-01\n",
            "  9.69472289e-01 -1.20430505e+00 -1.77057430e-01 -8.08053613e-02\n",
            "  1.41396976e+00 -1.76644325e-03 -6.26878440e-02 -6.54501095e-02\n",
            " -5.14340341e-01  2.56613642e-01 -1.41434610e-01 -7.48636425e-01\n",
            " -2.70055652e-01 -6.81623995e-01  4.89908427e-01  6.32590890e-01\n",
            "  3.90162647e-01 -1.00094426e+00  6.24275148e-01  4.48463082e-01\n",
            "  1.11108088e+00 -1.65155280e+00  8.33758831e-01 -1.11586243e-01\n",
            " -1.37903440e+00 -5.55240929e-01  3.40425223e-01 -4.85190094e-01\n",
            "  1.34030223e+00 -5.43631613e-03 -6.27913624e-02 -2.04306632e-01\n",
            " -5.44723496e-02 -7.93327391e-03 -3.81582946e-01  1.93424404e-01\n",
            " -1.69910240e+00  2.24585319e+00 -9.86128330e-01 -3.69588912e-01\n",
            "  1.56871808e+00  9.54259396e-01 -3.01017404e-01  1.81809634e-01]\n",
            "Vector Shape:  (96,)\n",
            "woman\n",
            "Vector:  [-1.8045378  -1.0275578  -0.6821511  -0.2831235  -0.13880792 -0.14285353\n",
            "  1.3482398   2.6589222   0.4198085  -0.00523591  0.47402003 -0.877147\n",
            "  0.34315294 -0.0870077  -0.69169396 -0.02925956 -0.29773116 -0.17349316\n",
            "  1.6868923   1.1449659  -0.36000302  1.1407794  -1.7523187  -0.9152541\n",
            " -0.01313309  0.28307706 -0.32410058  0.29866084  0.23004957 -0.2579764\n",
            "  0.1845305  -0.2455759   1.2535366   0.45656818 -0.6517628  -0.41361418\n",
            "  0.18346916  0.47836345 -0.55330044 -1.4202323   0.02572758  0.34522521\n",
            "  0.40207472  0.60711986 -0.5010684   0.30056912  0.18148255  0.23695606\n",
            " -0.26767564 -0.03562073  0.08084053  1.596575    0.717      -1.1510446\n",
            " -0.3131431  -0.53426695  1.2739941  -0.15863648  1.1596938  -0.03668936\n",
            "  0.31880474 -0.37090406  0.00590512  0.56468034 -0.1624158   0.4161954\n",
            " -0.03415002 -0.52352214 -0.65791696 -0.832421    0.2434046   0.38395253\n",
            "  1.4975294  -1.3954222  -0.7228881  -0.87429833 -0.77688444 -0.06670287\n",
            "  0.02750549 -1.5805311  -0.0777988   0.08084786 -1.4464642  -0.81446624\n",
            " -0.45436302  1.0591342  -0.45709532  0.01722419 -0.9223074   0.61427975\n",
            " -1.4854022   0.03984609  1.6415507   0.9420187   0.97318745  0.94576347]\n",
            "Vector Shape:  (96,)\n"
          ]
        }
      ]
    },
    {
      "cell_type": "markdown",
      "source": [
        "**Text Similarity**"
      ],
      "metadata": {
        "id": "t676b3EcslBT"
      }
    },
    {
      "cell_type": "code",
      "source": [
        "doc4 = nlp(\"I like dogs!\")\n",
        "doc5 = nlp(\"I have a cat!\")\n",
        "\n",
        "print(doc4, \"<->\", doc5, \" Similarity: \", doc4.similarity(doc5))\n",
        "\n",
        "print(\"\\n\")\n",
        "\n",
        "doc6 = nlp(\"My favorite food is pizza.\")\n",
        "doc7 = nlp(\"Fast food is great.\")\n",
        "print(doc6, \"<->\", doc7, \"Similarity: \", doc6.similarity(doc7))"
      ],
      "metadata": {
        "colab": {
          "base_uri": "https://localhost:8080/"
        },
        "id": "SlmjQqI0sopW",
        "outputId": "15e32742-8484-459a-dd19-2f7673e83d1f"
      },
      "execution_count": null,
      "outputs": [
        {
          "output_type": "stream",
          "name": "stdout",
          "text": [
            "I like dogs! <-> I have a cat!  Similarity:  0.5285250310437246\n",
            "\n",
            "\n",
            "My favorite food is pizza. <-> Fast food is great. Similarity:  0.7233491050322121\n"
          ]
        },
        {
          "output_type": "stream",
          "name": "stderr",
          "text": [
            "<ipython-input-43-53c7abf2d0c3>:4: UserWarning: [W007] The model you're using has no word vectors loaded, so the result of the Doc.similarity method will be based on the tagger, parser and NER, which may not give useful similarity judgements. This may happen if you're using one of the small models, e.g. `en_core_web_sm`, which don't ship with word vectors and only use context-sensitive tensors. You can always add your own word vectors, or use one of the larger models instead if available.\n",
            "  print(doc4, \"<->\", doc5, \" Similarity: \", doc4.similarity(doc5))\n",
            "<ipython-input-43-53c7abf2d0c3>:10: UserWarning: [W007] The model you're using has no word vectors loaded, so the result of the Doc.similarity method will be based on the tagger, parser and NER, which may not give useful similarity judgements. This may happen if you're using one of the small models, e.g. `en_core_web_sm`, which don't ship with word vectors and only use context-sensitive tensors. You can always add your own word vectors, or use one of the larger models instead if available.\n",
            "  print(doc6, \"<->\", doc7, \"Similarity: \", doc6.similarity(doc7))\n"
          ]
        }
      ]
    },
    {
      "cell_type": "markdown",
      "source": [
        "**Extracting nouns and words that describe nouns**"
      ],
      "metadata": {
        "id": "i3Nn-QoUuX9y"
      }
    },
    {
      "cell_type": "code",
      "source": [
        "doc8 = nlp(u\"Autonomous cars shift insurance liability toward manafacturers.\")"
      ],
      "metadata": {
        "id": "QDfVu98EW79W"
      },
      "execution_count": null,
      "outputs": []
    },
    {
      "cell_type": "code",
      "source": [
        "for chunk in doc8.noun_chunks:\n",
        "  print(chunk)"
      ],
      "metadata": {
        "colab": {
          "base_uri": "https://localhost:8080/"
        },
        "id": "qdu1dSwaX2zg",
        "outputId": "8c0040db-20bb-48ff-b4aa-223299fd9d41"
      },
      "execution_count": null,
      "outputs": [
        {
          "output_type": "stream",
          "name": "stdout",
          "text": [
            "Autonomous cars\n",
            "insurance liability\n",
            "manafacturers\n"
          ]
        }
      ]
    },
    {
      "cell_type": "markdown",
      "source": [
        "**Displaying text analysis**"
      ],
      "metadata": {
        "id": "rEqDcHOXuiUH"
      }
    },
    {
      "cell_type": "code",
      "source": [
        "from spacy import displacy"
      ],
      "metadata": {
        "id": "f8ZswbiDYB3N"
      },
      "execution_count": null,
      "outputs": []
    },
    {
      "cell_type": "code",
      "source": [
        "doc9 = nlp(u\"Apple is going to build a U.K. factory for $6 million.\")"
      ],
      "metadata": {
        "id": "nh0uSSpFYPyL"
      },
      "execution_count": null,
      "outputs": []
    },
    {
      "cell_type": "code",
      "source": [
        "displacy.render(doc9, style='dep', jupyter=True, options={'distance': 110})"
      ],
      "metadata": {
        "colab": {
          "base_uri": "https://localhost:8080/",
          "height": 379
        },
        "id": "G8PkX-ktYQ6l",
        "outputId": "94427a6e-5797-4cfe-af69-b210c5b9ea07"
      },
      "execution_count": null,
      "outputs": [
        {
          "output_type": "display_data",
          "data": {
            "text/plain": [
              "<IPython.core.display.HTML object>"
            ],
            "text/html": [
              "<span class=\"tex2jax_ignore\"><svg xmlns=\"http://www.w3.org/2000/svg\" xmlns:xlink=\"http://www.w3.org/1999/xlink\" xml:lang=\"en\" id=\"ba9703e2d7914ea5975b9137f0ac7189-0\" class=\"displacy\" width=\"1370\" height=\"357.0\" direction=\"ltr\" style=\"max-width: none; height: 357.0px; color: #000000; background: #ffffff; font-family: Arial; direction: ltr\">\n",
              "<text class=\"displacy-token\" fill=\"currentColor\" text-anchor=\"middle\" y=\"267.0\">\n",
              "    <tspan class=\"displacy-word\" fill=\"currentColor\" x=\"50\">Apple</tspan>\n",
              "    <tspan class=\"displacy-tag\" dy=\"2em\" fill=\"currentColor\" x=\"50\">PROPN</tspan>\n",
              "</text>\n",
              "\n",
              "<text class=\"displacy-token\" fill=\"currentColor\" text-anchor=\"middle\" y=\"267.0\">\n",
              "    <tspan class=\"displacy-word\" fill=\"currentColor\" x=\"160\">is</tspan>\n",
              "    <tspan class=\"displacy-tag\" dy=\"2em\" fill=\"currentColor\" x=\"160\">AUX</tspan>\n",
              "</text>\n",
              "\n",
              "<text class=\"displacy-token\" fill=\"currentColor\" text-anchor=\"middle\" y=\"267.0\">\n",
              "    <tspan class=\"displacy-word\" fill=\"currentColor\" x=\"270\">going</tspan>\n",
              "    <tspan class=\"displacy-tag\" dy=\"2em\" fill=\"currentColor\" x=\"270\">VERB</tspan>\n",
              "</text>\n",
              "\n",
              "<text class=\"displacy-token\" fill=\"currentColor\" text-anchor=\"middle\" y=\"267.0\">\n",
              "    <tspan class=\"displacy-word\" fill=\"currentColor\" x=\"380\">to</tspan>\n",
              "    <tspan class=\"displacy-tag\" dy=\"2em\" fill=\"currentColor\" x=\"380\">PART</tspan>\n",
              "</text>\n",
              "\n",
              "<text class=\"displacy-token\" fill=\"currentColor\" text-anchor=\"middle\" y=\"267.0\">\n",
              "    <tspan class=\"displacy-word\" fill=\"currentColor\" x=\"490\">build</tspan>\n",
              "    <tspan class=\"displacy-tag\" dy=\"2em\" fill=\"currentColor\" x=\"490\">VERB</tspan>\n",
              "</text>\n",
              "\n",
              "<text class=\"displacy-token\" fill=\"currentColor\" text-anchor=\"middle\" y=\"267.0\">\n",
              "    <tspan class=\"displacy-word\" fill=\"currentColor\" x=\"600\">a</tspan>\n",
              "    <tspan class=\"displacy-tag\" dy=\"2em\" fill=\"currentColor\" x=\"600\">DET</tspan>\n",
              "</text>\n",
              "\n",
              "<text class=\"displacy-token\" fill=\"currentColor\" text-anchor=\"middle\" y=\"267.0\">\n",
              "    <tspan class=\"displacy-word\" fill=\"currentColor\" x=\"710\">U.K.</tspan>\n",
              "    <tspan class=\"displacy-tag\" dy=\"2em\" fill=\"currentColor\" x=\"710\">PROPN</tspan>\n",
              "</text>\n",
              "\n",
              "<text class=\"displacy-token\" fill=\"currentColor\" text-anchor=\"middle\" y=\"267.0\">\n",
              "    <tspan class=\"displacy-word\" fill=\"currentColor\" x=\"820\">factory</tspan>\n",
              "    <tspan class=\"displacy-tag\" dy=\"2em\" fill=\"currentColor\" x=\"820\">NOUN</tspan>\n",
              "</text>\n",
              "\n",
              "<text class=\"displacy-token\" fill=\"currentColor\" text-anchor=\"middle\" y=\"267.0\">\n",
              "    <tspan class=\"displacy-word\" fill=\"currentColor\" x=\"930\">for</tspan>\n",
              "    <tspan class=\"displacy-tag\" dy=\"2em\" fill=\"currentColor\" x=\"930\">ADP</tspan>\n",
              "</text>\n",
              "\n",
              "<text class=\"displacy-token\" fill=\"currentColor\" text-anchor=\"middle\" y=\"267.0\">\n",
              "    <tspan class=\"displacy-word\" fill=\"currentColor\" x=\"1040\">$</tspan>\n",
              "    <tspan class=\"displacy-tag\" dy=\"2em\" fill=\"currentColor\" x=\"1040\">SYM</tspan>\n",
              "</text>\n",
              "\n",
              "<text class=\"displacy-token\" fill=\"currentColor\" text-anchor=\"middle\" y=\"267.0\">\n",
              "    <tspan class=\"displacy-word\" fill=\"currentColor\" x=\"1150\">6</tspan>\n",
              "    <tspan class=\"displacy-tag\" dy=\"2em\" fill=\"currentColor\" x=\"1150\">NUM</tspan>\n",
              "</text>\n",
              "\n",
              "<text class=\"displacy-token\" fill=\"currentColor\" text-anchor=\"middle\" y=\"267.0\">\n",
              "    <tspan class=\"displacy-word\" fill=\"currentColor\" x=\"1260\">million.</tspan>\n",
              "    <tspan class=\"displacy-tag\" dy=\"2em\" fill=\"currentColor\" x=\"1260\">NUM</tspan>\n",
              "</text>\n",
              "\n",
              "<g class=\"displacy-arrow\">\n",
              "    <path class=\"displacy-arc\" id=\"arrow-ba9703e2d7914ea5975b9137f0ac7189-0-0\" stroke-width=\"2px\" d=\"M70,222.0 C70,112.0 260.0,112.0 260.0,222.0\" fill=\"none\" stroke=\"currentColor\"/>\n",
              "    <text dy=\"1.25em\" style=\"font-size: 0.8em; letter-spacing: 1px\">\n",
              "        <textPath xlink:href=\"#arrow-ba9703e2d7914ea5975b9137f0ac7189-0-0\" class=\"displacy-label\" startOffset=\"50%\" side=\"left\" fill=\"currentColor\" text-anchor=\"middle\">nsubj</textPath>\n",
              "    </text>\n",
              "    <path class=\"displacy-arrowhead\" d=\"M70,224.0 L62,212.0 78,212.0\" fill=\"currentColor\"/>\n",
              "</g>\n",
              "\n",
              "<g class=\"displacy-arrow\">\n",
              "    <path class=\"displacy-arc\" id=\"arrow-ba9703e2d7914ea5975b9137f0ac7189-0-1\" stroke-width=\"2px\" d=\"M180,222.0 C180,167.0 255.0,167.0 255.0,222.0\" fill=\"none\" stroke=\"currentColor\"/>\n",
              "    <text dy=\"1.25em\" style=\"font-size: 0.8em; letter-spacing: 1px\">\n",
              "        <textPath xlink:href=\"#arrow-ba9703e2d7914ea5975b9137f0ac7189-0-1\" class=\"displacy-label\" startOffset=\"50%\" side=\"left\" fill=\"currentColor\" text-anchor=\"middle\">aux</textPath>\n",
              "    </text>\n",
              "    <path class=\"displacy-arrowhead\" d=\"M180,224.0 L172,212.0 188,212.0\" fill=\"currentColor\"/>\n",
              "</g>\n",
              "\n",
              "<g class=\"displacy-arrow\">\n",
              "    <path class=\"displacy-arc\" id=\"arrow-ba9703e2d7914ea5975b9137f0ac7189-0-2\" stroke-width=\"2px\" d=\"M400,222.0 C400,167.0 475.0,167.0 475.0,222.0\" fill=\"none\" stroke=\"currentColor\"/>\n",
              "    <text dy=\"1.25em\" style=\"font-size: 0.8em; letter-spacing: 1px\">\n",
              "        <textPath xlink:href=\"#arrow-ba9703e2d7914ea5975b9137f0ac7189-0-2\" class=\"displacy-label\" startOffset=\"50%\" side=\"left\" fill=\"currentColor\" text-anchor=\"middle\">aux</textPath>\n",
              "    </text>\n",
              "    <path class=\"displacy-arrowhead\" d=\"M400,224.0 L392,212.0 408,212.0\" fill=\"currentColor\"/>\n",
              "</g>\n",
              "\n",
              "<g class=\"displacy-arrow\">\n",
              "    <path class=\"displacy-arc\" id=\"arrow-ba9703e2d7914ea5975b9137f0ac7189-0-3\" stroke-width=\"2px\" d=\"M290,222.0 C290,112.0 480.0,112.0 480.0,222.0\" fill=\"none\" stroke=\"currentColor\"/>\n",
              "    <text dy=\"1.25em\" style=\"font-size: 0.8em; letter-spacing: 1px\">\n",
              "        <textPath xlink:href=\"#arrow-ba9703e2d7914ea5975b9137f0ac7189-0-3\" class=\"displacy-label\" startOffset=\"50%\" side=\"left\" fill=\"currentColor\" text-anchor=\"middle\">xcomp</textPath>\n",
              "    </text>\n",
              "    <path class=\"displacy-arrowhead\" d=\"M480.0,224.0 L488.0,212.0 472.0,212.0\" fill=\"currentColor\"/>\n",
              "</g>\n",
              "\n",
              "<g class=\"displacy-arrow\">\n",
              "    <path class=\"displacy-arc\" id=\"arrow-ba9703e2d7914ea5975b9137f0ac7189-0-4\" stroke-width=\"2px\" d=\"M620,222.0 C620,112.0 810.0,112.0 810.0,222.0\" fill=\"none\" stroke=\"currentColor\"/>\n",
              "    <text dy=\"1.25em\" style=\"font-size: 0.8em; letter-spacing: 1px\">\n",
              "        <textPath xlink:href=\"#arrow-ba9703e2d7914ea5975b9137f0ac7189-0-4\" class=\"displacy-label\" startOffset=\"50%\" side=\"left\" fill=\"currentColor\" text-anchor=\"middle\">det</textPath>\n",
              "    </text>\n",
              "    <path class=\"displacy-arrowhead\" d=\"M620,224.0 L612,212.0 628,212.0\" fill=\"currentColor\"/>\n",
              "</g>\n",
              "\n",
              "<g class=\"displacy-arrow\">\n",
              "    <path class=\"displacy-arc\" id=\"arrow-ba9703e2d7914ea5975b9137f0ac7189-0-5\" stroke-width=\"2px\" d=\"M730,222.0 C730,167.0 805.0,167.0 805.0,222.0\" fill=\"none\" stroke=\"currentColor\"/>\n",
              "    <text dy=\"1.25em\" style=\"font-size: 0.8em; letter-spacing: 1px\">\n",
              "        <textPath xlink:href=\"#arrow-ba9703e2d7914ea5975b9137f0ac7189-0-5\" class=\"displacy-label\" startOffset=\"50%\" side=\"left\" fill=\"currentColor\" text-anchor=\"middle\">compound</textPath>\n",
              "    </text>\n",
              "    <path class=\"displacy-arrowhead\" d=\"M730,224.0 L722,212.0 738,212.0\" fill=\"currentColor\"/>\n",
              "</g>\n",
              "\n",
              "<g class=\"displacy-arrow\">\n",
              "    <path class=\"displacy-arc\" id=\"arrow-ba9703e2d7914ea5975b9137f0ac7189-0-6\" stroke-width=\"2px\" d=\"M510,222.0 C510,57.0 815.0,57.0 815.0,222.0\" fill=\"none\" stroke=\"currentColor\"/>\n",
              "    <text dy=\"1.25em\" style=\"font-size: 0.8em; letter-spacing: 1px\">\n",
              "        <textPath xlink:href=\"#arrow-ba9703e2d7914ea5975b9137f0ac7189-0-6\" class=\"displacy-label\" startOffset=\"50%\" side=\"left\" fill=\"currentColor\" text-anchor=\"middle\">dobj</textPath>\n",
              "    </text>\n",
              "    <path class=\"displacy-arrowhead\" d=\"M815.0,224.0 L823.0,212.0 807.0,212.0\" fill=\"currentColor\"/>\n",
              "</g>\n",
              "\n",
              "<g class=\"displacy-arrow\">\n",
              "    <path class=\"displacy-arc\" id=\"arrow-ba9703e2d7914ea5975b9137f0ac7189-0-7\" stroke-width=\"2px\" d=\"M510,222.0 C510,2.0 930.0,2.0 930.0,222.0\" fill=\"none\" stroke=\"currentColor\"/>\n",
              "    <text dy=\"1.25em\" style=\"font-size: 0.8em; letter-spacing: 1px\">\n",
              "        <textPath xlink:href=\"#arrow-ba9703e2d7914ea5975b9137f0ac7189-0-7\" class=\"displacy-label\" startOffset=\"50%\" side=\"left\" fill=\"currentColor\" text-anchor=\"middle\">prep</textPath>\n",
              "    </text>\n",
              "    <path class=\"displacy-arrowhead\" d=\"M930.0,224.0 L938.0,212.0 922.0,212.0\" fill=\"currentColor\"/>\n",
              "</g>\n",
              "\n",
              "<g class=\"displacy-arrow\">\n",
              "    <path class=\"displacy-arc\" id=\"arrow-ba9703e2d7914ea5975b9137f0ac7189-0-8\" stroke-width=\"2px\" d=\"M1060,222.0 C1060,112.0 1250.0,112.0 1250.0,222.0\" fill=\"none\" stroke=\"currentColor\"/>\n",
              "    <text dy=\"1.25em\" style=\"font-size: 0.8em; letter-spacing: 1px\">\n",
              "        <textPath xlink:href=\"#arrow-ba9703e2d7914ea5975b9137f0ac7189-0-8\" class=\"displacy-label\" startOffset=\"50%\" side=\"left\" fill=\"currentColor\" text-anchor=\"middle\">quantmod</textPath>\n",
              "    </text>\n",
              "    <path class=\"displacy-arrowhead\" d=\"M1060,224.0 L1052,212.0 1068,212.0\" fill=\"currentColor\"/>\n",
              "</g>\n",
              "\n",
              "<g class=\"displacy-arrow\">\n",
              "    <path class=\"displacy-arc\" id=\"arrow-ba9703e2d7914ea5975b9137f0ac7189-0-9\" stroke-width=\"2px\" d=\"M1170,222.0 C1170,167.0 1245.0,167.0 1245.0,222.0\" fill=\"none\" stroke=\"currentColor\"/>\n",
              "    <text dy=\"1.25em\" style=\"font-size: 0.8em; letter-spacing: 1px\">\n",
              "        <textPath xlink:href=\"#arrow-ba9703e2d7914ea5975b9137f0ac7189-0-9\" class=\"displacy-label\" startOffset=\"50%\" side=\"left\" fill=\"currentColor\" text-anchor=\"middle\">compound</textPath>\n",
              "    </text>\n",
              "    <path class=\"displacy-arrowhead\" d=\"M1170,224.0 L1162,212.0 1178,212.0\" fill=\"currentColor\"/>\n",
              "</g>\n",
              "\n",
              "<g class=\"displacy-arrow\">\n",
              "    <path class=\"displacy-arc\" id=\"arrow-ba9703e2d7914ea5975b9137f0ac7189-0-10\" stroke-width=\"2px\" d=\"M950,222.0 C950,57.0 1255.0,57.0 1255.0,222.0\" fill=\"none\" stroke=\"currentColor\"/>\n",
              "    <text dy=\"1.25em\" style=\"font-size: 0.8em; letter-spacing: 1px\">\n",
              "        <textPath xlink:href=\"#arrow-ba9703e2d7914ea5975b9137f0ac7189-0-10\" class=\"displacy-label\" startOffset=\"50%\" side=\"left\" fill=\"currentColor\" text-anchor=\"middle\">pobj</textPath>\n",
              "    </text>\n",
              "    <path class=\"displacy-arrowhead\" d=\"M1255.0,224.0 L1263.0,212.0 1247.0,212.0\" fill=\"currentColor\"/>\n",
              "</g>\n",
              "</svg></span>"
            ]
          },
          "metadata": {}
        }
      ]
    },
    {
      "cell_type": "code",
      "source": [
        "displacy.render(doc9, style='ent', jupyter=True)"
      ],
      "metadata": {
        "colab": {
          "base_uri": "https://localhost:8080/",
          "height": 52
        },
        "id": "Ics4-k0xYSSC",
        "outputId": "452b35df-8201-42b2-e6a1-28cf4c63391c"
      },
      "execution_count": null,
      "outputs": [
        {
          "output_type": "display_data",
          "data": {
            "text/plain": [
              "<IPython.core.display.HTML object>"
            ],
            "text/html": [
              "<span class=\"tex2jax_ignore\"><div class=\"entities\" style=\"line-height: 2.5; direction: ltr\">\n",
              "<mark class=\"entity\" style=\"background: #7aecec; padding: 0.45em 0.6em; margin: 0 0.25em; line-height: 1; border-radius: 0.35em;\">\n",
              "    Apple\n",
              "    <span style=\"font-size: 0.8em; font-weight: bold; line-height: 1; border-radius: 0.35em; vertical-align: middle; margin-left: 0.5rem\">ORG</span>\n",
              "</mark>\n",
              " is going to build a \n",
              "<mark class=\"entity\" style=\"background: #feca74; padding: 0.45em 0.6em; margin: 0 0.25em; line-height: 1; border-radius: 0.35em;\">\n",
              "    U.K.\n",
              "    <span style=\"font-size: 0.8em; font-weight: bold; line-height: 1; border-radius: 0.35em; vertical-align: middle; margin-left: 0.5rem\">GPE</span>\n",
              "</mark>\n",
              " factory for \n",
              "<mark class=\"entity\" style=\"background: #e4e7d2; padding: 0.45em 0.6em; margin: 0 0.25em; line-height: 1; border-radius: 0.35em;\">\n",
              "    $6 million\n",
              "    <span style=\"font-size: 0.8em; font-weight: bold; line-height: 1; border-radius: 0.35em; vertical-align: middle; margin-left: 0.5rem\">MONEY</span>\n",
              "</mark>\n",
              ".</div></span>"
            ]
          },
          "metadata": {}
        }
      ]
    },
    {
      "cell_type": "code",
      "source": [],
      "metadata": {
        "id": "vUF7IiiSZKxE"
      },
      "execution_count": null,
      "outputs": []
    }
  ]
}